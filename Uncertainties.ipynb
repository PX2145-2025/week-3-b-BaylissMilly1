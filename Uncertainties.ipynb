{
  "cells": [
    {
      "cell_type": "markdown",
      "metadata": {
        "id": "4QPd5qfHRv71"
      },
      "source": [
        "# Feedback from previous weeks and other and hints\n",
        "\n",
        "1. Be careful about your environment remembering variables. Make sure your code works in a new _clean_ environment. In Colab: `Runtime`->`restart Runtime`, in Anaconda's Jupyter: `Kernel`->`Restart`.\n",
        "2. Graphs without labels (or units when appropriate) are not worth any point.\n",
        "3. Do put in sufficient explanatory comments in your code.\n",
        "4. Functions are very important. Do look up the video on the Safari O'Reilly ressource if you are still not clear on them !\n",
        "\n",
        "For this week you can use these imports at the start of your programs:"
      ]
    },
    {
      "cell_type": "code",
      "execution_count": null,
      "metadata": {
        "id": "LvHuwUoPRv73"
      },
      "outputs": [],
      "source": [
        "import numpy as np\n",
        "import matplotlib.pyplot as plt"
      ]
    },
    {
      "cell_type": "markdown",
      "metadata": {
        "id": "ytvUE6UlRv74"
      },
      "source": [
        "We will use a new module `uncertainties`, which is **not** standard in the colab environment. You will have to first run:"
      ]
    },
    {
      "cell_type": "code",
      "execution_count": null,
      "metadata": {
        "id": "YVZTzoY9Rv75"
      },
      "outputs": [],
      "source": [
        "! pip install -q uncertainties"
      ]
    },
    {
      "cell_type": "markdown",
      "metadata": {
        "id": "otwOYNlURv75"
      },
      "source": [
        "To install the module before you can import it:"
      ]
    },
    {
      "cell_type": "code",
      "execution_count": null,
      "metadata": {
        "id": "zeG82VO0Rv75"
      },
      "outputs": [],
      "source": [
        "import uncertainties as uc\n",
        "import uncertainties.umath as um # for maths functions"
      ]
    },
    {
      "cell_type": "markdown",
      "metadata": {
        "id": "lHuUOZkxRv76"
      },
      "source": [
        "# Introduction\n",
        "In the practical classes PX2133/PX2233 and PX2338 (Obs tech), as well as your year 3/4 project, a lot of emphasis is placed on the determination and mathematical handling of errors.\n",
        "The uncertainties module allows us to deal very easily with [error propagation](https://en.wikipedia.org/wiki/Propagation_of_uncertainty). For this sheet you should remind yourself about error bars in measurements and about propagation of uncertainties. Take an example from your lab handbook:\n",
        "\n",
        "**Example 1**: If the length of a rectangle is $1.24\\pm0.02 m$ and its breadth is $0.61\\pm0.01 m$, what is its area and the error in the area? The following code snippet solves this problem in a few lines."
      ]
    },
    {
      "cell_type": "code",
      "execution_count": null,
      "metadata": {
        "id": "A3oVkyryRv76",
        "outputId": "1fc577bd-04f6-4644-ef7b-d84ab7822ca4"
      },
      "outputs": [
        {
          "name": "stdout",
          "output_type": "stream",
          "text": [
            "Area is: 0.756+/-0.017 m^2\n"
          ]
        }
      ],
      "source": [
        "L = uc.ufloat(1.24, 0.02)\n",
        "W = uc.ufloat(0.61, 0.01)\n",
        "print ('Area is:', L*W, 'm^2') # Do remember to add the units when printing!"
      ]
    },
    {
      "cell_type": "markdown",
      "metadata": {
        "id": "ZIpG9r9IRv76"
      },
      "source": [
        "**Note**: For the area itself, it's fairly straightforward:"
      ]
    },
    {
      "cell_type": "code",
      "execution_count": null,
      "metadata": {
        "id": "50ZL39o9Rv77",
        "outputId": "2cebd9f6-6ecd-4758-b6b3-47568b278625"
      },
      "outputs": [
        {
          "data": {
            "text/plain": [
              "0.7564"
            ]
          },
          "execution_count": 5,
          "metadata": {},
          "output_type": "execute_result"
        }
      ],
      "source": [
        "1.24*0.61"
      ]
    },
    {
      "cell_type": "markdown",
      "metadata": {
        "id": "heR02tr-Rv77"
      },
      "source": [
        "However, for the error bar on this number:"
      ]
    },
    {
      "cell_type": "code",
      "execution_count": null,
      "metadata": {
        "id": "Uf9inP4fRv77",
        "outputId": "c88bb8b1-a990-421b-9e63-5b30e1521f6c"
      },
      "outputs": [
        {
          "data": {
            "text/plain": [
              "0.0002"
            ]
          },
          "execution_count": 6,
          "metadata": {},
          "output_type": "execute_result"
        }
      ],
      "source": [
        "0.02*0.01"
      ]
    },
    {
      "cell_type": "markdown",
      "metadata": {
        "id": "q7RoPj3URv78"
      },
      "source": [
        "does not work. Instead, the [error progation formula](https://en.wikipedia.org/wiki/Propagation_of_uncertainty#Example_formulae) gives:"
      ]
    },
    {
      "cell_type": "code",
      "execution_count": null,
      "metadata": {
        "id": "NNsvvaBMRv78",
        "outputId": "8c73a868-d766-4d34-f4f1-02f8a861c56b"
      },
      "outputs": [
        {
          "data": {
            "text/plain": [
              "0.01739540169125163"
            ]
          },
          "execution_count": 7,
          "metadata": {},
          "output_type": "execute_result"
        }
      ],
      "source": [
        "np.abs(1.24*0.61)*np.sqrt((0.02/1.24)**2+(0.01/0.61)**2)"
      ]
    },
    {
      "cell_type": "markdown",
      "metadata": {
        "id": "TOJ_1NLKRv78"
      },
      "source": [
        "So the area is $0.756\\pm0.017 m^2$. `uncertainties` obviously saves a lot of work, even for such a simple case. You can also take a look at the web site uncertainties hosted at https://pythonhosted.org/uncertainties/user_guide.html. In particular, [this section](https://pythonhosted.org/uncertainties/user_guide.html#access-to-the-uncertainty-and-to-the-nominal-value) shows some of the properties of a `ufloat` you can access directly.\n",
        "\n",
        "**Example 2**: A reference object is $10.0\\pm0.0001 m$ long, and makes a viewing angle of $0.62\\pm0.02 rad$. How far is it?"
      ]
    },
    {
      "cell_type": "code",
      "execution_count": null,
      "metadata": {
        "id": "Ldlc1eswRv79",
        "outputId": "f355a3c8-76f4-4154-fe81-60359efa5b9a"
      },
      "outputs": [
        {
          "name": "stdout",
          "output_type": "stream",
          "text": [
            "Distance is: 15.609024890896208 m, with an error of: 0.537283338762715\n"
          ]
        }
      ],
      "source": [
        "L = uc.ufloat(10.0, 0.0001)\n",
        "theta = uc.ufloat(0.62,0.02)\n",
        "\n",
        "Distance = (L/2)/um.tan(theta/2)\n",
        "\n",
        "print ('Distance is:', Distance.nominal_value, 'm, with an error of:', Distance.std_dev)"
      ]
    },
    {
      "cell_type": "markdown",
      "metadata": {
        "id": "Vc9B7LAyRv7-"
      },
      "source": [
        "Note the need to use \"umath\" functions (like `um.tan()` instead of `np.tan()`), and how to get the nominal value and the standard deviation of the uncertainties objects. To get nicer looking output, such as controlling the number of significant digits printed, you can use the information about formatting at https://docs.python.org/3/tutorial/inputoutput.html. In the exercises below you need to print the values to the screen. (Don’t forget units.)"
      ]
    },
    {
      "cell_type": "markdown",
      "metadata": {
        "id": "wgKv046dRv7-"
      },
      "source": [
        "# Exercises\n",
        "This must be marked before you leave the lab. Mark weighting is in brackets.\n",
        "**Save your work to GitHub after having run all cells with `Runtime` -> `Restart and run all`. And do not change the notebook's filename.** Do add comments to your code, you'll lose points if your code is hard to understand. Graphs without labels (or units when appropriate) are not worth any point.\n",
        "\n",
        "## Exercise 0\n",
        "[0] With some approximations, we have measured the mass of the following black-holes:\n",
        "```\n",
        "\"35.6+/-3.9\",\"30.6+/-3.7\",\"63.1+/-3.2\",\"23.2+/-9.8\",\"13.6+/-4.5\",\"35.7+/-6.8\",\"13.7+/-6.0\",\"7.7+/-2.4\",\"20.5+/-4.0\"\n",
        "```\n",
        "Compute for each (with error-bars) their lifetime due to Hawking radiation:\n",
        "$$\n",
        "t = \\left(\\frac{M}{M_{\\odot}}\\right)^3\\,\\times\\,2.097\\,\\times\\,10^{67} yr\n",
        "$$\n",
        "\n",
        "(this exercise is for demonstration purposes and won't be marked)"
      ]
    },
    {
      "cell_type": "code",
      "execution_count": 6,
      "metadata": {
        "colab": {
          "base_uri": "https://localhost:8080/"
        },
        "id": "l5FckC1QRv7_",
        "outputId": "1b5b8362-86bf-4393-d962-303f107a5043"
      },
      "outputs": [
        {
          "output_type": "stream",
          "name": "stdout",
          "text": [
            "\u001b[?25l   \u001b[90m━━━━━━━━━━━━━━━━━━━━━━━━━━━━━━━━━━━━━━━━\u001b[0m \u001b[32m0.0/60.1 kB\u001b[0m \u001b[31m?\u001b[0m eta \u001b[36m-:--:--\u001b[0m\r\u001b[2K   \u001b[90m━━━━━━━━━━━━━━━━━━━━━━━━━━━━━━━━━━━━━━━━\u001b[0m \u001b[32m60.1/60.1 kB\u001b[0m \u001b[31m2.5 MB/s\u001b[0m eta \u001b[36m0:00:00\u001b[0m\n",
            "\u001b[?25h"
          ]
        }
      ],
      "source": [
        "import numpy as np\n",
        "import matplotlib.pyplot as plt\n",
        "\n",
        "!pip install -q uncertainties\n",
        "import uncertainties as uc\n",
        "import uncertainties.umath as um\n"
      ]
    },
    {
      "cell_type": "markdown",
      "metadata": {
        "id": "NvmFvZ0URv7_"
      },
      "source": [
        "## Exercise 1\n",
        "[2] An object is measured to travel a distance $x = 5.1 \\pm 0.4 m$ during a time of $t = 0.4 \\pm 0.1 s$. What is the average velocity and the error in the average velocity?"
      ]
    },
    {
      "cell_type": "code",
      "execution_count": 14,
      "metadata": {
        "colab": {
          "base_uri": "https://localhost:8080/"
        },
        "id": "qbycYlxtRv7_",
        "outputId": "dccf5614-a426-47c1-d9f5-f2a29f86d168"
      },
      "outputs": [
        {
          "output_type": "stream",
          "name": "stdout",
          "text": [
            "v= 12.7+/-3.3 m/s\n"
          ]
        }
      ],
      "source": [
        "# VELOCITY = DISTANCE/TIME\n",
        "x = uc.ufloat(5.1,0.4) #m\n",
        "t = uc.ufloat(0.4,0.1) #s\n",
        "\n",
        "\n",
        "# calculate average velocity\n",
        "v = x/t\n",
        "print(\"v=\",v , \"m/s\")\n"
      ]
    },
    {
      "cell_type": "markdown",
      "metadata": {
        "id": "w7_ozKo8Rv7_"
      },
      "source": [
        "## Exercise 2\n",
        "[2] An enterprising cow attempts to jump over the moon by jumping vertically into the air with initial speed $v_0=4.0\\pm0.2 m/s$. After a time $t=0.60\\pm0.06s$, the height of the cow is $h = v_0t-\\frac{1}{2}g t^2 = 0.636 m$. What is the uncertainty in $h$? Take $g$ as exactly $9.81 ms^{-2}$."
      ]
    },
    {
      "cell_type": "code",
      "execution_count": 13,
      "metadata": {
        "colab": {
          "base_uri": "https://localhost:8080/"
        },
        "id": "Qeh52m8rRv7_",
        "outputId": "1db6902b-a4d9-4cc2-b907-143fb01b0f58"
      },
      "outputs": [
        {
          "output_type": "stream",
          "name": "stdout",
          "text": [
            "h =  0.63+/-0.16 m\n"
          ]
        }
      ],
      "source": [
        "# Set floats\n",
        "v = uc.ufloat (4.0,0.2) #m/s\n",
        "t = uc.ufloat (0.6,0.06) #s\n",
        "g = 9.81 #m/s^2\n",
        "\n",
        "# calculate h\n",
        "h = v*t - (1/2)*g*(t**2)\n",
        "\n",
        "print(\"h = \",h , \"m\")"
      ]
    },
    {
      "cell_type": "markdown",
      "metadata": {
        "id": "3N467XnIRv8A"
      },
      "source": [
        "## Exercise 3\n",
        "[2] In an optics experiment the object distance $u$ is measured to be 20cm and the image distance $v$ is 10cm, both to an accuracy of 0.5cm. Find the focal length $f$ of the lens using the formula:\n",
        "\n",
        "$$ \\frac{1}{u}+\\frac{1}{v}=\\frac{1}{f}$$"
      ]
    },
    {
      "cell_type": "code",
      "execution_count": 40,
      "metadata": {
        "colab": {
          "base_uri": "https://localhost:8080/"
        },
        "id": "JHasjI9qRv8A",
        "outputId": "5144d7a8-2db0-4858-96d0-f7d9e05aa23a"
      },
      "outputs": [
        {
          "output_type": "stream",
          "name": "stdout",
          "text": [
            "f = 0.067+/-0.023 m\n"
          ]
        }
      ],
      "source": [
        "#set u and v\n",
        "\n",
        "u = uc.ufloat(0.20 , 0.05) #m\n",
        "v = uc.ufloat(0.10 , 0.05) #m\n",
        "\n",
        "\n",
        "#calculate f\n",
        "\n",
        "f = 1/(1/u + 1/v)\n",
        "\n",
        "print(\"f =\", f, \"m\")"
      ]
    },
    {
      "cell_type": "markdown",
      "metadata": {
        "id": "WWW40aUtRv8A"
      },
      "source": [
        "## Exercise 4\n",
        "[2] Two students each measure the refractive index of water. Jack measures a value of $1.33 \\pm 0.03$ while Jill measures $1.28 \\pm 0.02$. Are these values in agreement? *You do have to think a bit about this one...*"
      ]
    },
    {
      "cell_type": "code",
      "source": [
        "# Jacks measurement\n",
        "Ja = uc.ufloat(1.33,0.03)\n",
        "\n",
        "# Jills measurement\n",
        "Ji = uc.ufloat(1.28,0.02)\n",
        "\n",
        "# calculate the difference\n",
        "d = Ja - Ji\n",
        "print(\"The difference between the 2 measurements is,\", d)\n",
        "\n",
        "#Check for agreement\n",
        "#If in agreeance\n"
      ],
      "metadata": {
        "id": "b6R5a-hoq7oI",
        "outputId": "02b1e13c-e3b6-4606-e88c-90491145d7db",
        "colab": {
          "base_uri": "https://localhost:8080/"
        }
      },
      "execution_count": 34,
      "outputs": [
        {
          "output_type": "stream",
          "name": "stdout",
          "text": [
            "The difference between the 2 measurements is, 0.05+/-0.04\n",
            "The values are not in agreement\n"
          ]
        }
      ]
    },
    {
      "cell_type": "markdown",
      "metadata": {
        "id": "r_yoeAS2Rv8A"
      },
      "source": [
        "## Exercise 5\n",
        "[2] The damped resonance frequency $\\omega_{res}$ of an oscillating system is related to the (un-damped) natural angular frequency $\\omega_0$ and the damping coefficient $\\alpha$ by:\n",
        "\n",
        "$$\\omega_{res} = \\sqrt{ \\omega_0^2 - 2\\alpha^2}$$\n",
        "\n",
        "Find $f_0$ if the measured resonance frequency $f_{res}$ is $23.2\\pm0.1 Hz$ and the measured damping coefficient is $19.5\\pm0.5s^{-1}$.\n"
      ]
    },
    {
      "cell_type": "code",
      "execution_count": 42,
      "metadata": {
        "colab": {
          "base_uri": "https://localhost:8080/"
        },
        "id": "M6RjEEcVRv8A",
        "outputId": "f0f3f155-dc1d-4ea3-85b4-3a12a7d7debb"
      },
      "outputs": [
        {
          "output_type": "stream",
          "name": "stdout",
          "text": [
            "f_zero =  23.61+/-0.10 Hz\n"
          ]
        }
      ],
      "source": [
        "#set floats\n",
        "f_res = uc.ufloat(23.2,0.1) #Hz\n",
        "dc = uc.ufloat(19.5,0.5) #s^-1\n",
        "\n",
        "w_res = f_res * 2*np.pi\n",
        "\n",
        "# w = 2*pi*f\n",
        "# f = w/2*pi\n",
        "\n",
        "#calculate w_zero\n",
        "\n",
        "w_zero = um.sqrt(w_res**2 + 2*(dc**2))\n",
        "\n",
        "#calculate f_zero\n",
        "\n",
        "f_zero = w_zero / (2*np.pi)\n",
        "\n",
        "print(\"f_zero = \",f_zero, \"Hz\")"
      ]
    },
    {
      "cell_type": "markdown",
      "metadata": {
        "id": "-jWbhJLTRv8A"
      },
      "source": [
        "## Exercise 6\n",
        "[2] Suppose you have the following equation from one of your lab experiments:\n",
        "\n",
        "$$f=\\frac{c}{2}\\sqrt{\\frac{n_x^2}{L_x^2}+\\frac{n_y^2}{L_y^2}+\\frac{n_z^2}{L_z^2}}$$\n",
        "\n",
        "where $f$ is the resonant frequency of sound waves in a box of sides $L_x$, $L_y$ and $L_z$ in length and the $n_x$ etc. are integers. $L_x = 10.2\\pm0.2m$, $L_y = 5.2\\pm0.3m$ and $L_z = 20.0\\pm0.1 m$, while $c = 331.3 + T * 0.606 \\,m\\,s^{-1}$ is the temperature-dependent speed of sound, and the temperature $T$ is $23 \\pm 1^\\circ C$.\n",
        "Calculate $f$ and the error in $f$ for the following values of $(nx,ny,nz)= (1,1,1), (1,1,2)$ and $(2,1,1)$.\n"
      ]
    },
    {
      "cell_type": "code",
      "execution_count": 22,
      "metadata": {
        "colab": {
          "base_uri": "https://localhost:8080/"
        },
        "id": "N86N2AD8Rv8B",
        "outputId": "c5fd3dfd-849a-43d4-b78f-60d93975dfa3"
      },
      "outputs": [
        {
          "output_type": "stream",
          "name": "stdout",
          "text": [
            "The frequency at (1,1,1) =  38.2+/-1.7 Hz\n",
            "The frequency at (1,1,2) =  41.1+/-1.6 Hz\n",
            "The frequency at (2,1,1) =  48.2+/-1.4 Hz\n"
          ]
        }
      ],
      "source": [
        "#set floats\n",
        "Lx = uc.ufloat(10.2,0.2) #m\n",
        "Ly = uc.ufloat(5.2,0.3) #m\n",
        "Lz = uc.ufloat(20.0,0.1) #m\n",
        "T = uc.ufloat(23,1) #degrees celcis\n",
        "c = 331.3 + T*0.606 #m/s\n",
        "\n",
        "# calclate f1 (1,1,1)\n",
        "nx1 = 1\n",
        "ny1 = 1\n",
        "nz1 = 1\n",
        "\n",
        "f1 = (c/2) * um.sqrt(((nx1**2)/(Lx**2)) + ((ny1**2)/(Ly**2)) + ((nz1**2)/(Lz**2)))\n",
        "print(\"The frequency at (1,1,1) = \",f1, \"Hz\")\n",
        "\n",
        "# calclate f2 (1,1,2)\n",
        "nx2 = 1\n",
        "ny2 = 1\n",
        "nz2 = 2\n",
        "\n",
        "f2 = (c/2) * um.sqrt(((nx2**2)/(Lx**2)) + ((ny2**2)/(Ly**2)) + ((nz2**2)/(Lz**2)))\n",
        "print(\"The frequency at (1,1,2) = \",f2, \"Hz\")\n",
        "\n",
        "# calclate f3 (2,1,1)\n",
        "nx3 = 2\n",
        "ny3 = 1\n",
        "nz3 = 1\n",
        "\n",
        "f3 = (c/2) * um.sqrt(((nx3**2)/(Lx**2)) + ((ny3**2)/(Ly**2)) + ((nz3**2)/(Lz**2)))\n",
        "print(\"The frequency at (2,1,1) = \",f3, \"Hz\")"
      ]
    },
    {
      "cell_type": "markdown",
      "metadata": {
        "id": "7eYcrr_TRv8B"
      },
      "source": [
        "## Exercise 7\n",
        "[4] The reflection coefficient $R_\\parallel$ for parallel plane-polarised light reflected from a surface is given by the equation:\n",
        "\n",
        "$$ R_\\parallel = \\frac{\\tan^2(\\theta_i - \\theta_t)}{\\tan^2(\\theta_i + \\theta_t)} $$\n",
        "\n",
        "Calculate the error in $R_\\parallel$ given measurements $\\theta_i = (78 \\pm 1)^\\circ$ and $\\theta_t = (40 \\pm 1)^\\circ$."
      ]
    },
    {
      "cell_type": "code",
      "execution_count": 29,
      "metadata": {
        "colab": {
          "base_uri": "https://localhost:8080/"
        },
        "id": "g0B6FfuJRv8B",
        "outputId": "9bd1bd74-d407-4e7c-f64f-303c4d456ef1"
      },
      "outputs": [
        {
          "output_type": "stream",
          "name": "stdout",
          "text": [
            "The error in the reflection coefficient R =  0.173+/-0.027\n"
          ]
        }
      ],
      "source": [
        "# Setting values\n",
        "#Theta i will be i and Theta t will be t\n",
        "i = uc.ufloat(np.deg2rad(78),np.deg2rad(1)) #degrees\n",
        "t = uc.ufloat(np.deg2rad(40), np.deg2rad(1)) #degrees\n",
        "\n",
        "# Calculate R\n",
        "\n",
        "R = (um.tan(i - t))**2 / (um.tan(i + t))**2\n",
        "\n",
        "print(\"The error in the reflection coefficient R = \", R)"
      ]
    },
    {
      "cell_type": "markdown",
      "metadata": {
        "id": "Zh3BiMEgRv8B"
      },
      "source": [
        "## Exercise 8\n",
        "[4] Calculate and print to the screen the fractional uncertainty, as a percentage to one\n",
        "significant figure, of the fluid flow discharge coefficient $C_d$ from the equation\n",
        "\n",
        "$$\n",
        "C_d = \\frac{\\dot{m}\\sqrt{1-\\left(\\frac{d}{D}\\right)^4}}{Kd^2F\\sqrt{\\rho\\Delta P}}\n",
        "$$\n",
        "\n",
        "where\n",
        "\n",
        "\\begin{align*}\n",
        "    C_d &= \\text{discharge coefficient}&& \\text{(no units)} \\\\\n",
        "    \\dot{m} &= \\text{mass flow rate}&& = 0.13 \\pm 0.01kg\\,s^{-1} \\\\\n",
        "    d &= \\text{orifice diameter}&& = 11\\pm 1 mm \\\\\n",
        "    D &= \\text{pipe diameter}&& = 71 \\pm 1 mm \\\\\n",
        "    \\rho &= \\text{fluid density}&& =1.01\\pm0.01g\\,cm^{-3} \\\\\n",
        "    \\Delta P &= \\text{differential pressure}&& =156 \\pm 7 Pa \\\\\n",
        "    K &= \\text{a constant parameter}&& =\\text{constant (no units)} \\\\\n",
        "    F &= \\text{thermal expansion factor}&& =\\text{constant (no units)}\n",
        "\\end{align*}\n"
      ]
    },
    {
      "cell_type": "markdown",
      "source": [],
      "metadata": {
        "id": "j6EhA2jit0ov"
      }
    },
    {
      "cell_type": "code",
      "execution_count": 41,
      "metadata": {
        "colab": {
          "base_uri": "https://localhost:8080/"
        },
        "id": "2hElkjBvRv8B",
        "outputId": "03ec3790-793c-49c5-8715-5c1f65daef2b"
      },
      "outputs": [
        {
          "output_type": "stream",
          "name": "stdout",
          "text": [
            "Percentage uncertainty = 20%\n"
          ]
        }
      ],
      "source": [
        "#Enter in values\n",
        "m = uc.ufloat(0.13,0.01) #kg/s\n",
        "d = uc.ufloat(0.011,0.001) #m\n",
        "D = uc.ufloat(0.071,0.001) #m\n",
        "rho = uc.ufloat(1010,10) #kg/m**3\n",
        "P = uc.ufloat(156,7) #Pa\n",
        "K = 1\n",
        "F = 1\n",
        "# k and c are constants so will cancel out in the uncertainty\n",
        "\n",
        "Cd = (m * um.sqrt(1 - ((d/D)**4))) / (K * (d**2) * F * um.sqrt(rho * P))\n",
        "\n",
        "#fractional and percent uncertainties\n",
        "\n",
        "frac_Cd = Cd.std_dev / Cd.nominal_value\n",
        "Percent_Cd = frac_Cd *100\n",
        "\n",
        "print(f\"Percentage uncertainty = {Percent_Cd:.0f}%\")\n",
        "\n",
        "\n"
      ]
    },
    {
      "cell_type": "markdown",
      "metadata": {
        "id": "OuIKXVd1Rv8B"
      },
      "source": [
        "## Exercise 9: Optional problem (not marked)\n",
        "If you have time and want to try something interesting, do the following problem by plotting in 2D:\n",
        " - Draw an equilateral triangle with vertices and coordinates: vertex 1: $(p_1,q_1)$; vertex 2: $(p_2, q_2)$; vertex 3: $(p_3, q_3)$.\n",
        " - Place a dot at an arbitrary point $P = (x_0, y_0)$ within this triangle.\n",
        " - Find the next point by selecting randomly an integer $n = 1 , 2, $  or $3$ :\n",
        "    1. If 1 , place a dot halfway between P and vertex 1.\n",
        "    2. If 2 , place a dot halfway between P and vertex 2.\n",
        "    3. If 3 , place a dot halfway between P and vertex 3.\n",
        " - Repeat the last two steps using the last dot as the new P.\n",
        "\n",
        "Mathematically, the coordinates of successive points are given by the formulae\n",
        "\n",
        "$$(x_{i+1},y_{i+1})=0.5[(x_i,y_i)+(p_n,q_n)]$$\n",
        "\n",
        "and\n",
        "\n",
        "$$n=int(1+3r_i),$$\n",
        "\n",
        "where $r_i$ is a random number between 0 and 1 and where the $int()$ function outputs the closest integer smaller than or equal to the argument.\n",
        "\n",
        "Try extending this to four vertices."
      ]
    },
    {
      "cell_type": "code",
      "execution_count": null,
      "metadata": {
        "id": "zErH8WecRv8C"
      },
      "outputs": [],
      "source": []
    }
  ],
  "metadata": {
    "kernelspec": {
      "display_name": "Python 3",
      "language": "python",
      "name": "python3"
    },
    "language_info": {
      "codemirror_mode": {
        "name": "ipython",
        "version": 3
      },
      "file_extension": ".py",
      "mimetype": "text/x-python",
      "name": "python",
      "nbconvert_exporter": "python",
      "pygments_lexer": "ipython3",
      "version": "3.7.10"
    },
    "colab": {
      "provenance": []
    }
  },
  "nbformat": 4,
  "nbformat_minor": 0
}